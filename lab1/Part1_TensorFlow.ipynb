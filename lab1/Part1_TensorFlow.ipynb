{
  "cells": [
    {
      "cell_type": "markdown",
      "metadata": {
        "id": "WBk0ZDWY-ff8"
      },
      "source": [
        "<table align=\"center\">\n",
        "  <td align=\"center\"><a target=\"_blank\" href=\"http://introtodeeplearning.com\">\n",
        "        <img src=\"https://i.ibb.co/Jr88sn2/mit.png\" style=\"padding-bottom:5px;\" />\n",
        "      Visit MIT Deep Learning</a></td>\n",
        "  <td align=\"center\"><a target=\"_blank\" href=\"https://colab.research.google.com/github/aamini/introtodeeplearning/blob/master/lab1/Part1_TensorFlow.ipynb\">\n",
        "        <img src=\"https://i.ibb.co/2P3SLwK/colab.png\"  style=\"padding-bottom:5px;\" />Run in Google Colab</a></td>\n",
        "  <td align=\"center\"><a target=\"_blank\" href=\"https://github.com/aamini/introtodeeplearning/blob/master/lab1/Part1_TensorFlow.ipynb\">\n",
        "        <img src=\"https://i.ibb.co/xfJbPmL/github.png\"  height=\"70px\" style=\"padding-bottom:5px;\"  />View Source on GitHub</a></td>\n",
        "</table>\n",
        "\n",
        "\n",
        "# Copyright Information\n"
      ]
    },
    {
      "cell_type": "code",
      "execution_count": 35,
      "metadata": {
        "id": "3eI6DUic-6jo"
      },
      "outputs": [],
      "source": [
        "# Copyright 2024 MIT Introduction to Deep Learning. All Rights Reserved.\n",
        "#\n",
        "# Licensed under the MIT License. You may not use this file except in compliance\n",
        "# with the License. Use and/or modification of this code outside of MIT Introduction\n",
        "# to Deep Learning must reference:\n",
        "#\n",
        "# © MIT Introduction to Deep Learning\n",
        "# http://introtodeeplearning.com\n",
        "#"
      ]
    },
    {
      "cell_type": "markdown",
      "metadata": {
        "id": "57knM8jrYZ2t"
      },
      "source": [
        "# Lab 1: Intro to TensorFlow and Music Generation with RNNs\n",
        "\n",
        "In this lab, you'll get exposure to using TensorFlow and learn how it can be used for solving deep learning tasks. Go through the code and run each cell. Along the way, you'll encounter several ***TODO*** blocks -- follow the instructions to fill them out before running those cells and continuing.\n",
        "\n",
        "\n",
        "# Part 1: Intro to TensorFlow\n",
        "\n",
        "## 0.1 Install TensorFlow\n",
        "\n",
        "TensorFlow is a software library extensively used in machine learning. Here we'll learn how computations are represented and how to define a simple neural network in TensorFlow. For all the labs in Introduction to Deep Learning 2023, we'll be using the latest version of TensorFlow, TensorFlow 2, which affords great flexibility and the ability to imperatively execute operations, just like in Python. You'll notice that TensorFlow 2 is quite similar to Python in its syntax and imperative execution. Let's install TensorFlow and a couple of dependencies.\n"
      ]
    },
    {
      "cell_type": "code",
      "execution_count": 36,
      "metadata": {
        "id": "LkaimNJfYZ2w"
      },
      "outputs": [],
      "source": [
        "\n",
        "import tensorflow as tf\n",
        "\n",
        "# Download and import the MIT Introduction to Deep Learning package\n",
        "# !\n",
        "# pip install mitdeeplearning --quiet\n",
        "\n",
        "import mitdeeplearning as mdl\n",
        "import numpy as np\n",
        "import matplotlib.pyplot as plt"
      ]
    },
    {
      "cell_type": "markdown",
      "metadata": {
        "id": "2QNMcdP4m3Vs"
      },
      "source": [
        "## 1.1 Why is TensorFlow called TensorFlow?\n",
        "\n",
        "TensorFlow is called 'TensorFlow' because it handles the flow (node/mathematical operation) of Tensors, which are data structures that you can think of as multi-dimensional arrays. Tensors are represented as n-dimensional arrays of base dataypes such as a string or integer -- they provide a way to generalize vectors and matrices to higher dimensions.\n",
        "\n",
        "The ```shape``` of a Tensor defines its number of dimensions and the size of each dimension. The ```rank``` of a Tensor provides the number of dimensions (n-dimensions) -- you can also think of this as the Tensor's order or degree.\n",
        "\n",
        "Let's first look at 0-d Tensors, of which a scalar is an example:"
      ]
    },
    {
      "cell_type": "code",
      "execution_count": 68,
      "metadata": {
        "id": "tFxztZQInlAB"
      },
      "outputs": [
        {
          "name": "stdout",
          "output_type": "stream",
          "text": [
            "`sport` is a 0-d Tensor\n",
            "`number` is a 0-d Tensor\n"
          ]
        }
      ],
      "source": [
        "sport = tf.constant(\"Tennis\", tf.string)\n",
        "number = tf.constant(1.41421356237, tf.float64)\n",
        "\n",
        "print(\"`sport` is a {}-d Tensor\".format(tf.rank(sport).numpy()))\n",
        "print(\"`number` is a {}-d Tensor\".format(tf.rank(number).numpy()))"
      ]
    },
    {
      "cell_type": "markdown",
      "metadata": {
        "id": "-dljcPUcoJZ6"
      },
      "source": [
        "Vectors and lists can be used to create 1-d Tensors:"
      ]
    },
    {
      "cell_type": "code",
      "execution_count": 69,
      "metadata": {
        "id": "oaHXABe8oPcO"
      },
      "outputs": [
        {
          "name": "stdout",
          "output_type": "stream",
          "text": [
            "`sports` is a 1-d Tensor with shape: [2]\n",
            "`numbers` is a 1-d Tensor with shape: [4]\n"
          ]
        }
      ],
      "source": [
        "sports = tf.constant([\"Tennis\", \"Basketball\"], tf.string)\n",
        "numbers = tf.constant([3.141592, 1.414213, 2.71821,1.2], tf.float64)\n",
        "\n",
        "print(\"`sports` is a {}-d Tensor with shape: {}\".format(tf.rank(sports).numpy(), tf.shape(sports)))\n",
        "print(\"`numbers` is a {}-d Tensor with shape: {}\".format(tf.rank(numbers).numpy(), tf.shape(numbers)))"
      ]
    },
    {
      "cell_type": "markdown",
      "metadata": {
        "id": "gvffwkvtodLP"
      },
      "source": [
        "Next we consider creating 2-d (i.e., matrices) and higher-rank Tensors. For examples, in future labs involving image processing and computer vision, we will use 4-d Tensors. Here the dimensions correspond to the number of example images in our batch, image height, image width, and the number of color channels."
      ]
    },
    {
      "cell_type": "code",
      "execution_count": 70,
      "metadata": {
        "id": "tFeBBe1IouS3"
      },
      "outputs": [
        {
          "name": "stdout",
          "output_type": "stream",
          "text": [
            "rank i :2,shape : [2 2]\n"
          ]
        }
      ],
      "source": [
        "### Defining higher-order Tensors ###\n",
        "\n",
        "'''TODO: Define a 2-d Tensor'''\n",
        "matrix = tf.constant([[\"a\",\"b\"],[\"c\",\"d\"]])\n",
        "\n",
        "assert isinstance(matrix, tf.Tensor), \"matrix must be a tf Tensor object\"\n",
        "assert tf.rank(matrix).numpy() == 2\n",
        "print('rank i :{},shape : {}'.format(tf.rank(matrix).numpy(),tf.shape(matrix)))"
      ]
    },
    {
      "cell_type": "code",
      "execution_count": 73,
      "metadata": {
        "id": "Zv1fTn_Ya_cz"
      },
      "outputs": [],
      "source": [
        "'''TODO: Define a 4-d Tensor.'''\n",
        "# Use tf.zeros to initialize a 4-d Tensor of zeros with size 10 x 256 x 256 x 3.\n",
        "#   You can think of this as 10 images where each image is RGB 256 x 256.\n",
        "images = tf.random.normal([10,256,256,3])\n",
        "\n",
        "assert isinstance(images, tf.Tensor), \"matrix must be a tf Tensor object\"\n",
        "assert tf.rank(images).numpy() == 4, \"matrix must be of rank 4\"\n",
        "assert tf.shape(images).numpy().tolist() == [10, 256, 256, 3], \"matrix is in correct shape\""
      ]
    },
    {
      "cell_type": "markdown",
      "metadata": {
        "id": "wkaCDOGapMyl"
      },
      "source": [
        "As you have seen, the ```shape``` of a Tensor provides the number of elements in each Tensor dimension. The ```shape``` is quite useful, and we'll use it often. You can also use slicing to access subtensors within a higher-rank Tensor:"
      ]
    },
    {
      "cell_type": "code",
      "execution_count": 75,
      "metadata": {
        "id": "FhaufyObuLEG"
      },
      "outputs": [
        {
          "name": "stdout",
          "output_type": "stream",
          "text": [
            "`row_vector`: [[[-0.79351336 -0.15659077  2.768336  ]\n",
            "  [ 0.09574363  0.80945075 -0.09118324]\n",
            "  [ 0.96233046 -0.71591645  0.4752892 ]\n",
            "  ...\n",
            "  [-0.2567485   0.2993464  -0.12881252]\n",
            "  [ 0.7399063  -1.0179491  -2.128944  ]\n",
            "  [-0.7649482   0.4156222  -0.44903645]]\n",
            "\n",
            " [[ 0.99705696 -2.0824723  -1.0731046 ]\n",
            "  [-0.04548629 -1.524939   -0.74839693]\n",
            "  [-0.45912075  0.4464756  -1.9143258 ]\n",
            "  ...\n",
            "  [ 0.8559118  -0.21801744 -0.7904411 ]\n",
            "  [ 0.41318023  0.563085    1.4327414 ]\n",
            "  [-2.3406742  -0.9852427   1.5618379 ]]\n",
            "\n",
            " [[ 0.3577172   0.08829764  2.537541  ]\n",
            "  [ 0.28757823 -1.0274876  -1.3961216 ]\n",
            "  [-0.38465342  0.7584315  -0.73673505]\n",
            "  ...\n",
            "  [ 0.8347026  -0.42634973 -0.70689064]\n",
            "  [-1.6969923   0.7043922  -0.35401478]\n",
            "  [-1.1780152  -0.18766081 -0.5672127 ]]\n",
            "\n",
            " ...\n",
            "\n",
            " [[-0.58874184 -0.52898407 -0.5051703 ]\n",
            "  [-0.02093515 -0.8479498   0.01792842]\n",
            "  [-1.5080069   0.43248618 -1.093839  ]\n",
            "  ...\n",
            "  [-0.98935825  1.9174377  -0.25887334]\n",
            "  [ 0.01626456 -0.92134476 -1.1354113 ]\n",
            "  [-0.08646291 -0.5428493  -0.23205103]]\n",
            "\n",
            " [[ 1.1961615  -0.06154804 -0.45155922]\n",
            "  [-1.929198   -0.22583015  0.11598933]\n",
            "  [ 0.4034191   0.0342211  -0.76689446]\n",
            "  ...\n",
            "  [-0.31092778  1.3249114   0.26671708]\n",
            "  [-0.1754981   0.7228058   0.34028465]\n",
            "  [ 0.13579355 -1.3581175   0.6845305 ]]\n",
            "\n",
            " [[-0.34077784 -1.8490261   0.42033777]\n",
            "  [ 0.18834564 -0.05711599 -0.1772262 ]\n",
            "  [-2.1932833  -1.421978    0.72252274]\n",
            "  ...\n",
            "  [ 0.16533314  0.0155323   0.5381104 ]\n",
            "  [ 1.0184703   1.9672523   0.44232273]\n",
            "  [-1.6090761   0.29814124 -0.5667349 ]]]\n",
            "`column_vector`: [[[-1.0264119  -0.43845907  1.7718625 ]\n",
            "  [-0.7118325  -0.17941692  0.16696018]\n",
            "  [-0.3047564  -1.7817996  -0.12462434]\n",
            "  ...\n",
            "  [-2.1750276   1.4333802   0.17983556]\n",
            "  [ 1.3201276   0.8388848  -1.2335439 ]\n",
            "  [ 0.24453636  1.8519633  -1.178398  ]]\n",
            "\n",
            " [[-0.34077784 -1.8490261   0.42033777]\n",
            "  [ 0.18834564 -0.05711599 -0.1772262 ]\n",
            "  [-2.1932833  -1.421978    0.72252274]\n",
            "  ...\n",
            "  [ 0.16533314  0.0155323   0.5381104 ]\n",
            "  [ 1.0184703   1.9672523   0.44232273]\n",
            "  [-1.6090761   0.29814124 -0.5667349 ]]\n",
            "\n",
            " [[ 1.668326    0.45969352  1.2621901 ]\n",
            "  [ 0.4241327  -0.17455578 -0.8115411 ]\n",
            "  [ 0.0932591  -1.0179667   0.53206164]\n",
            "  ...\n",
            "  [-0.6146831   1.0628664  -0.40185392]\n",
            "  [-0.6838953  -0.24710275  1.3771755 ]\n",
            "  [-1.2591603  -0.8931758   0.3204302 ]]\n",
            "\n",
            " ...\n",
            "\n",
            " [[ 0.09075259 -0.47405595 -0.22525373]\n",
            "  [-0.00574678 -0.6029868   0.76759756]\n",
            "  [ 0.6963122   0.33799642 -1.3607049 ]\n",
            "  ...\n",
            "  [-2.1992211  -1.24048     1.3106012 ]\n",
            "  [-1.0251453   0.71230555  1.0793473 ]\n",
            "  [ 0.05291554  1.1519158  -1.137218  ]]\n",
            "\n",
            " [[-0.28528255  0.6621517   0.31405687]\n",
            "  [-0.11285955  0.8188988   0.06917121]\n",
            "  [ 0.0520329   1.9251472  -2.4410954 ]\n",
            "  ...\n",
            "  [ 0.03378218  0.08156653  0.3524734 ]\n",
            "  [ 0.4909541  -0.7416971   0.5119981 ]\n",
            "  [-0.86732054 -0.17567477 -0.4685778 ]]\n",
            "\n",
            " [[-0.69860464  0.1660747   2.8356001 ]\n",
            "  [-0.60658395  0.75640374 -0.16258778]\n",
            "  [ 0.34178862  1.2970476  -0.31188798]\n",
            "  ...\n",
            "  [-0.2561387  -1.867648    0.90774834]\n",
            "  [ 0.01522665  0.3677009   1.0256813 ]\n",
            "  [ 0.64888024  0.026757   -0.5886151 ]]]\n",
            "`scalar`: [[ 1.6031084  -1.6063873   0.69731605]\n",
            " [-0.06650279  1.7788227   0.93771535]\n",
            " [ 0.16012146 -0.11942254  0.7964669 ]\n",
            " [-0.14735311 -1.1573286  -1.1121083 ]\n",
            " [-0.91360635 -0.90265363  0.46300724]\n",
            " [-0.00789496  0.36503986  0.18864416]\n",
            " [-0.8767992  -1.1715281   0.95027065]\n",
            " [-0.25727913  1.2214096  -0.19148226]\n",
            " [ 0.40486258 -1.0228089  -0.8421644 ]\n",
            " [ 0.7816401  -0.77893144 -0.2723716 ]\n",
            " [-0.96864647 -0.5135323   0.8316721 ]\n",
            " [-0.4962894   1.6054128   0.84524775]\n",
            " [ 0.8166209   0.18954676  1.9088612 ]\n",
            " [ 0.64329827 -0.00985671 -1.1242409 ]\n",
            " [ 0.49337825  0.23103307  0.03906883]\n",
            " [-1.2117398  -0.5243738   0.33229375]\n",
            " [ 1.1644821  -0.40494707  1.7649117 ]\n",
            " [-0.31533888 -2.679923    0.6890194 ]\n",
            " [-0.93843114 -0.6725247  -0.8381016 ]\n",
            " [ 0.15958992  0.5320919  -1.0530459 ]\n",
            " [ 0.17821108  0.93129003 -0.19794855]\n",
            " [-0.7998386   1.6452729  -0.21071506]\n",
            " [ 1.840971    0.850188   -0.3117137 ]\n",
            " [ 0.33790162 -0.19777127 -2.2127016 ]\n",
            " [ 0.03518293 -1.2352923  -0.271248  ]\n",
            " [-0.49893245 -1.2572535   1.7926601 ]\n",
            " [-1.2956518  -0.02792336 -1.3899341 ]\n",
            " [ 0.9763092   1.0827869   0.49462986]\n",
            " [-0.8413942   0.30368772 -1.7894632 ]\n",
            " [ 0.26552543  1.1971734   0.24069898]\n",
            " [-0.02393098  0.515475   -0.33972612]\n",
            " [-0.42889738  1.621742    0.22123265]\n",
            " [ 0.62066543  0.54567355 -2.2233272 ]\n",
            " [ 0.8764895   0.72221637 -0.71239907]\n",
            " [-1.0929624   1.1840712   1.6435069 ]\n",
            " [ 1.1929255  -0.38890624 -0.97247803]\n",
            " [ 0.44911498  0.19673216 -0.9142799 ]\n",
            " [ 2.6465726  -0.36896133  2.3695009 ]\n",
            " [ 1.0558913   0.2587436   0.28224608]\n",
            " [-0.77764904 -1.1627269   0.6569392 ]\n",
            " [-1.1611233   0.6878635  -1.0556136 ]\n",
            " [ 1.478959    0.87094235  1.3468946 ]\n",
            " [ 0.38646486  0.05530643  0.15857966]\n",
            " [ 1.1602397   0.71577716 -0.35900745]\n",
            " [ 1.7762418  -0.20214403 -0.23618314]\n",
            " [-0.4586859   1.780816    1.2919222 ]\n",
            " [ 0.85284615  0.29253638  0.59751356]\n",
            " [-2.4617968   1.7607882  -0.56269956]\n",
            " [-1.4861016   0.46358198  0.83397174]\n",
            " [ 0.3989234   1.5455395  -0.6628833 ]\n",
            " [ 1.7794269  -0.83802587  0.70827055]\n",
            " [ 0.25841933 -0.3826595  -0.5793157 ]\n",
            " [-0.5023679  -0.98921    -0.74460673]\n",
            " [-1.0820775   1.2592665   1.0696638 ]\n",
            " [-0.03570882 -2.4792633  -0.34342685]\n",
            " [-0.77424663  1.8895524   1.0463434 ]\n",
            " [ 0.01286137 -0.12702927  1.6428332 ]\n",
            " [-0.30776262  0.00386186 -0.5623833 ]\n",
            " [ 2.571269    1.0414394  -0.25411147]\n",
            " [ 1.3851074  -0.29106042 -0.4648051 ]\n",
            " [ 1.391932   -0.06838232  1.0249838 ]\n",
            " [-0.7694737   0.8644846   1.2666427 ]\n",
            " [-0.03331355  0.85664684 -0.73162663]\n",
            " [-0.17736214 -0.36270657 -1.0360771 ]\n",
            " [ 0.16531661 -1.5804791   1.0423586 ]\n",
            " [-0.0267392   0.45487553 -0.73756677]\n",
            " [-0.57593834 -1.495723    0.34868822]\n",
            " [ 0.4551928  -0.6588314   1.2868388 ]\n",
            " [-0.35873103 -0.8391031   2.4765298 ]\n",
            " [-1.5004998  -0.4174913  -1.3766072 ]\n",
            " [-1.8818567   0.991313    1.7346476 ]\n",
            " [-1.9627119  -1.6418487  -0.7322029 ]\n",
            " [ 0.34204397  1.6071438   1.0386516 ]\n",
            " [ 0.8942509  -0.7883557   1.6009731 ]\n",
            " [-0.17005923  1.1762532   0.21505336]\n",
            " [-0.3599881  -0.23173843  1.7231281 ]\n",
            " [ 0.38617334 -0.5267386  -1.3455483 ]\n",
            " [ 0.41946036  0.24250828  1.3292994 ]\n",
            " [-0.78528386 -0.32874563 -2.205818  ]\n",
            " [-1.5516793   0.11094999  0.64358944]\n",
            " [-0.24004743  0.7701377   0.21017963]\n",
            " [-0.18191285  0.10995186  0.34336725]\n",
            " [ 0.5207403   1.9703672  -0.9112217 ]\n",
            " [ 0.9578575  -1.4708619   0.02412692]\n",
            " [-0.17953654  0.05653306 -0.184428  ]\n",
            " [-0.2921937  -0.04709372 -0.18913163]\n",
            " [ 0.19706266  1.3041427   0.09291372]\n",
            " [-0.84776527 -0.81479234  0.8436918 ]\n",
            " [-0.7107672   0.8146823  -0.6670856 ]\n",
            " [-0.50098664  0.20483327 -0.9385241 ]\n",
            " [-1.1312455  -0.06775808  0.96305525]\n",
            " [-1.1327925  -0.87410617 -1.9414494 ]\n",
            " [-1.5603647  -0.87162536 -0.8583268 ]\n",
            " [ 0.8601711   0.21247374 -1.16162   ]\n",
            " [ 0.17444222 -0.03706105 -0.05231415]\n",
            " [-0.5054811   1.2229216   0.23984513]\n",
            " [-0.6156768   0.93118376  0.39954832]\n",
            " [-0.9987809   2.4242055   1.1676546 ]\n",
            " [-0.04851293 -1.0433552  -0.52551025]\n",
            " [ 2.1865842  -0.5153009   0.10108539]\n",
            " [-0.59170926  0.9302878  -0.11825063]\n",
            " [-0.8055177   1.9822475   1.8000283 ]\n",
            " [-0.9279382   1.0251515   1.6031139 ]\n",
            " [-0.1964783  -0.80169076 -0.09797837]\n",
            " [-0.5499578   0.94556504  1.4463663 ]\n",
            " [-0.04831899  0.73840487 -1.2166622 ]\n",
            " [ 1.2941184   1.1552478  -0.71517855]\n",
            " [ 0.3716486  -1.1370007  -1.5047183 ]\n",
            " [ 0.59898466  0.15408805 -0.46700388]\n",
            " [ 0.19657394 -2.6494086  -0.22755589]\n",
            " [-0.3314344   0.94458956  0.4232452 ]\n",
            " [ 0.02214381  0.22869031  0.29794368]\n",
            " [ 0.77013683  0.32560357  2.212217  ]\n",
            " [ 1.5362318  -0.5319684   0.22992548]\n",
            " [-0.6150267   2.0321121  -1.678137  ]\n",
            " [-0.18392614 -0.47031984  1.2533137 ]\n",
            " [ 0.8130623   1.7000176   0.43463394]\n",
            " [ 1.7329365  -0.4489893   0.607593  ]\n",
            " [ 1.1472865   1.1395563   0.12592238]\n",
            " [-0.69347733  0.38881475  0.11789287]\n",
            " [-1.0584638   0.6349439   0.35778326]\n",
            " [-0.76666903 -1.872789    1.7848549 ]\n",
            " [ 0.15422814 -0.74957836  1.0830175 ]\n",
            " [-0.51875806 -0.14846228  0.5149142 ]\n",
            " [ 1.8767372   0.28623074 -1.3019185 ]\n",
            " [ 0.7044353  -0.26077756 -0.01540063]\n",
            " [ 0.24655537  0.0684315  -0.16369797]\n",
            " [-0.01631664 -0.09814011  1.8402363 ]\n",
            " [-0.6057665   0.40460128 -0.5956241 ]\n",
            " [ 0.5127462   1.1289076   0.45555645]\n",
            " [-0.98558235  0.43263686  0.03613777]\n",
            " [ 0.03856394 -0.69015527 -0.53376526]\n",
            " [ 0.12768042 -0.24001458 -0.4651821 ]\n",
            " [ 1.063146    0.07985877 -0.37686527]\n",
            " [ 0.1623427   1.2595077   0.91196877]\n",
            " [ 0.38509893  0.6168152   0.7149693 ]\n",
            " [-0.50211847  0.32484365  0.40618655]\n",
            " [ 0.26460898  1.2572396   1.1386845 ]\n",
            " [ 0.20794633  1.3954362  -0.05260718]\n",
            " [-0.76221824  0.31659868  0.9168964 ]\n",
            " [-1.4443712  -1.3945847  -0.07017969]\n",
            " [ 1.4810773  -1.332633    0.08762156]\n",
            " [ 0.25588834 -1.7869933  -0.28061432]\n",
            " [ 1.908805   -1.674673    2.5891807 ]\n",
            " [ 0.7162691   1.2910112   0.07937884]\n",
            " [-0.8863838   0.14169456 -0.6923187 ]\n",
            " [ 0.7289191  -0.002844    1.1773384 ]\n",
            " [ 0.8284222   1.1846789  -1.4582158 ]\n",
            " [-0.7462784  -0.11215759 -2.0980153 ]\n",
            " [-0.3773691  -0.1129701  -0.96135443]\n",
            " [ 0.14288159  0.36926863  0.4563081 ]\n",
            " [-0.5454837   2.083781   -0.3873011 ]\n",
            " [-0.52454334  1.752304   -0.97650766]\n",
            " [-0.35045406 -0.41554832  0.45827302]\n",
            " [ 0.09784258 -0.14775078  0.5825933 ]\n",
            " [-0.10652424  0.7180168   1.3182826 ]\n",
            " [ 0.29329962  1.3981847  -2.1026275 ]\n",
            " [-1.6257355  -0.12649904 -1.7921907 ]\n",
            " [-1.8014878   0.37625626  0.52699876]\n",
            " [-1.606687    0.36319107 -0.07892612]\n",
            " [-0.76878625 -0.15016165 -0.752388  ]\n",
            " [-0.91527504  0.05904511 -0.42928958]\n",
            " [-0.8341398   1.0791036   0.5249297 ]\n",
            " [ 0.1873338  -0.02199724 -0.5808217 ]\n",
            " [-1.2928741   0.18009274 -2.0140054 ]\n",
            " [ 1.6405138   0.11036599 -0.6766072 ]\n",
            " [-0.63532263 -0.19505695 -0.54911613]\n",
            " [-0.16402237 -1.3228354   0.61222064]\n",
            " [-1.3484868  -1.8715645  -0.8932302 ]\n",
            " [ 0.21987653  0.46282193 -0.2186606 ]\n",
            " [ 1.4701426   0.02846853  0.54732084]\n",
            " [-1.7075747   1.0407503  -0.711536  ]\n",
            " [ 0.57468027  1.7731268   1.0549504 ]\n",
            " [-0.3298662   2.1314337  -1.0933325 ]\n",
            " [ 1.5394914   0.52139544 -1.8292952 ]\n",
            " [ 0.08538537  0.22906543 -0.18927936]\n",
            " [-1.0265607  -0.4777654   0.8196924 ]\n",
            " [-0.7734515  -0.9041901  -0.389722  ]\n",
            " [-2.110912   -0.25843292  0.7686182 ]\n",
            " [ 0.37138584  0.42162123 -0.80980754]\n",
            " [-1.8144076   0.7781629  -0.6530049 ]\n",
            " [-1.2365755   0.36104634 -0.5831052 ]\n",
            " [ 0.58764404 -0.62926215 -1.1221211 ]\n",
            " [ 0.9835287  -1.875891    0.34679127]\n",
            " [ 1.2084951  -0.22811969 -1.6164669 ]\n",
            " [ 0.2371276  -1.2222831  -0.12713538]\n",
            " [ 1.7506207   1.1991949   0.9292471 ]\n",
            " [ 0.06479833 -0.6634648   0.10661315]\n",
            " [-0.42184475 -0.39559126 -0.08213585]\n",
            " [ 1.1264015   0.85539836  1.4407899 ]\n",
            " [ 1.9919968   1.6149116  -1.436859  ]\n",
            " [-0.7918727   0.04949135 -0.7050103 ]\n",
            " [ 1.6350722  -0.22631659  0.06558835]\n",
            " [-0.1923026  -0.6680766  -0.084511  ]\n",
            " [ 0.5083878   1.2408153  -0.00367428]\n",
            " [-0.58613306 -1.2276075  -0.2299729 ]\n",
            " [-1.81465    -0.67557937 -0.5940307 ]\n",
            " [ 0.07130305 -1.3918971   0.06705848]\n",
            " [ 0.97974217 -0.07726717 -1.201131  ]\n",
            " [ 0.12192324 -1.2140542  -1.2426246 ]\n",
            " [-1.7597542   1.8450284   1.6719364 ]\n",
            " [-0.96623033 -0.79334086  0.5269302 ]\n",
            " [ 0.00940275 -0.52449226 -0.13929895]\n",
            " [ 0.17285071 -2.2635798   0.03300053]\n",
            " [ 0.12128983  0.15799135 -0.67251   ]\n",
            " [ 0.6384991  -0.72622955 -1.3263896 ]\n",
            " [-0.23264517 -0.46589187  0.16228849]\n",
            " [-0.61684996 -0.08122365  0.11604327]\n",
            " [ 0.9325464   0.374689   -0.9885849 ]\n",
            " [ 1.0980169   1.1203731   0.5826679 ]\n",
            " [ 0.04160659 -0.12274741  0.31454402]\n",
            " [-0.0910427  -0.41872904 -0.42974123]\n",
            " [ 0.00837358 -1.0916314  -0.12616546]\n",
            " [-0.1499215  -0.84944063 -0.59346354]\n",
            " [ 0.8315402  -1.2687036   0.4564609 ]\n",
            " [ 0.59375036  0.07799445 -1.4034528 ]\n",
            " [ 0.8428277   2.0019617   0.59539694]\n",
            " [-1.2360926  -0.17683025  0.16737556]\n",
            " [-1.4150531   1.2766231   0.02392988]\n",
            " [ 0.25740275 -1.2814292   0.759518  ]\n",
            " [-0.17786436  0.4801038  -0.5892005 ]\n",
            " [ 1.0703573   0.28368047  1.568078  ]\n",
            " [ 0.19707237 -1.7777655   0.5843916 ]\n",
            " [-1.618995    1.6092669  -2.0773091 ]\n",
            " [-0.09757537  0.26311406 -1.1515515 ]\n",
            " [-0.20635425 -0.4235095   1.3935341 ]\n",
            " [ 1.2354664  -0.05193057 -1.1622738 ]\n",
            " [-0.3468862   1.4347532   0.04169089]\n",
            " [-0.7670121   0.56243426  0.5487141 ]\n",
            " [-0.13686933 -1.5101677   0.7608738 ]\n",
            " [ 0.48063737 -0.7229669  -0.48961976]\n",
            " [ 0.12519704 -2.2603319  -0.22419433]\n",
            " [ 1.1593934  -0.6734931  -1.8520814 ]\n",
            " [-0.5232165   1.1417816   0.12192582]\n",
            " [ 1.0964425   1.8541405   1.1693391 ]\n",
            " [ 0.06789242 -1.4009484   0.16449657]\n",
            " [-1.2533814   0.91391397  0.7141806 ]\n",
            " [-0.15623958 -0.81616443  0.5440963 ]\n",
            " [-0.665416   -0.2971402   2.1810699 ]\n",
            " [-1.6904173  -0.13071494 -0.4868535 ]\n",
            " [-0.6115937   1.2011527  -0.10361324]\n",
            " [-0.08578264  1.5101784   0.30728173]\n",
            " [-0.92278314  0.9494747   1.4112362 ]\n",
            " [-0.42608723  0.15885781  1.6206255 ]\n",
            " [-0.02077808  0.20244871 -0.12727912]\n",
            " [ 0.26707745  1.633815    0.92807466]\n",
            " [ 0.6522799   0.84244525 -1.5774798 ]\n",
            " [-0.12804899  0.100583   -0.37103036]\n",
            " [-2.5132096   0.6260358  -0.46966147]\n",
            " [ 1.3400958  -0.9131075  -0.756855  ]\n",
            " [-0.6831135   0.72668666  1.2238492 ]\n",
            " [ 1.3575382   1.4179778  -1.5270548 ]\n",
            " [ 0.05217393  0.02416406  0.56055397]\n",
            " [ 0.02730132  0.2100286  -0.142071  ]\n",
            " [ 1.4300424  -0.2461117  -0.4223034 ]\n",
            " [ 0.40370238  1.2836845   1.1681361 ]]\n"
          ]
        }
      ],
      "source": [
        "# row_vector = matrix[1]\n",
        "# column_vector = matrix[:,1]\n",
        "# scalar = matrix[0, 1]\n",
        "row_vector=images[1]\n",
        "column_vector=images[:,-1]\n",
        "scalar = images[5,9]\n",
        "\n",
        "print(\"`row_vector`: {}\".format(row_vector.numpy()))\n",
        "print(\"`column_vector`: {}\".format(column_vector.numpy()))\n",
        "print(\"`scalar`: {}\".format(scalar.numpy()))"
      ]
    },
    {
      "cell_type": "markdown",
      "metadata": {
        "id": "iD3VO-LZYZ2z"
      },
      "source": [
        "## 1.2 Computations on Tensors\n",
        "\n",
        "A convenient way to think about and visualize computations in TensorFlow is in terms of graphs. We can define this graph in terms of Tensors, which hold data, and the mathematical operations that act on these Tensors in some order. Let's look at a simple example, and define this computation using TensorFlow:\n",
        "\n",
        "![alt text](https://raw.githubusercontent.com/aamini/introtodeeplearning/master/lab1/img/add-graph.png)"
      ]
    },
    {
      "cell_type": "code",
      "execution_count": 24,
      "metadata": {
        "id": "X_YJrZsxYZ2z"
      },
      "outputs": [
        {
          "name": "stdout",
          "output_type": "stream",
          "text": [
            "tf.Tensor(76, shape=(), dtype=int32)\n",
            "tf.Tensor(76, shape=(), dtype=int32)\n"
          ]
        }
      ],
      "source": [
        "# Create the nodes in the graph, and initialize values\n",
        "a = tf.constant(15)\n",
        "b = tf.constant(61)\n",
        "\n",
        "# Add them!\n",
        "c1 = tf.add(a,b)\n",
        "c2 = a + b # TensorFlow overrides the \"+\" operation so that it is able to act on Tensors\n",
        "print(c1)\n",
        "print(c2)"
      ]
    },
    {
      "cell_type": "markdown",
      "metadata": {
        "id": "Mbfv_QOiYZ23"
      },
      "source": [
        "Notice how we've created a computation graph consisting of TensorFlow operations, and how  the output is a Tensor with value 76 -- we've just created a computation graph consisting of operations, and it's executed them and given us back the result.\n",
        "\n",
        "Now let's consider a slightly more complicated example:\n",
        "\n",
        "![alt text](https://raw.githubusercontent.com/aamini/introtodeeplearning/master/lab1/img/computation-graph.png)\n",
        "\n",
        "Here, we take two inputs, `a, b`, and compute an output `e`. Each node in the graph represents an operation that takes some input, does some computation, and passes its output to another node.\n",
        "\n",
        "Let's define a simple function in TensorFlow to construct this computation function:"
      ]
    },
    {
      "cell_type": "code",
      "execution_count": 27,
      "metadata": {
        "id": "PJnfzpWyYZ23",
        "scrolled": true
      },
      "outputs": [],
      "source": [
        "### Defining Tensor computations ###\n",
        "\n",
        "# Construct a simple computation function\n",
        "def func(a,b):\n",
        "  '''TODO: Define the operation for c, d, e (use tf.add, tf.subtract, tf.multiply).'''\n",
        "  c = tf.add(a,b)\n",
        "  print(c)\n",
        "  d =tf.subtract(b,1)\n",
        "  print(d)\n",
        "  e = tf.subtract(c,d)\n",
        "  print(e)\n",
        "  return e"
      ]
    },
    {
      "cell_type": "markdown",
      "metadata": {
        "id": "AwrRfDMS2-oy"
      },
      "source": [
        "Now, we can call this function to execute the computation graph given some inputs `a,b`:"
      ]
    },
    {
      "cell_type": "code",
      "execution_count": 28,
      "metadata": {
        "id": "pnwsf8w2uF7p"
      },
      "outputs": [
        {
          "name": "stdout",
          "output_type": "stream",
          "text": [
            "tf.Tensor(4.0, shape=(), dtype=float32)\n",
            "tf.Tensor(1.5, shape=(), dtype=float32)\n",
            "tf.Tensor(2.5, shape=(), dtype=float32)\n",
            "tf.Tensor(2.5, shape=(), dtype=float32)\n"
          ]
        }
      ],
      "source": [
        "# Consider example values for a,b\n",
        "a, b = 1.5, 2.5\n",
        "# Execute the computation\n",
        "e_out = func(a,b)\n",
        "print(e_out)"
      ]
    },
    {
      "cell_type": "markdown",
      "metadata": {
        "id": "6HqgUIUhYZ29"
      },
      "source": [
        "Notice how our output is a Tensor with value defined by the output of the computation, and that the output has no shape as it is a single scalar value."
      ]
    },
    {
      "cell_type": "markdown",
      "metadata": {
        "id": "1h4o9Bb0YZ29"
      },
      "source": [
        "## 1.3 Neural networks in TensorFlow\n",
        "We can also define neural networks in TensorFlow. TensorFlow uses a high-level API called [Keras](https://www.tensorflow.org/guide/keras) that provides a powerful, intuitive framework for building and training deep learning models.\n",
        "\n",
        "Let's first consider the example of a simple perceptron defined by just one dense layer: $ y = \\sigma(Wx + b)$, where $W$ represents a matrix of weights, $b$ is a bias, $x$ is the input, $\\sigma$ is the sigmoid activation function, and $y$ is the output. We can also visualize this operation using a graph:\n",
        "\n",
        "![alt text](https://raw.githubusercontent.com/aamini/introtodeeplearning/master/lab1/img/computation-graph-2.png)\n",
        "\n",
        "Tensors can flow through abstract types called [```Layers```](https://www.tensorflow.org/api_docs/python/tf/keras/layers/Layer) -- the building blocks of neural networks. ```Layers``` implement common neural networks operations, and are used to update weights, compute losses, and define inter-layer connectivity. We will first define a ```Layer``` to implement the simple perceptron defined above."
      ]
    },
    {
      "cell_type": "code",
      "execution_count": 43,
      "metadata": {
        "id": "HutbJk-1kHPh"
      },
      "outputs": [
        {
          "name": "stdout",
          "output_type": "stream",
          "text": [
            "[[0.22883518 0.22115576 0.32149363]]\n"
          ]
        }
      ],
      "source": [
        "### Defining a network Layer ###\n",
        "\n",
        "# n_output_nodes: number of output nodes\n",
        "# input_shape: shape of the input\n",
        "# x: input to the layer\n",
        "\n",
        "class OurDenseLayer(tf.keras.layers.Layer):\n",
        "  def __init__(self, n_output_nodes):\n",
        "    super(OurDenseLayer, self).__init__()\n",
        "    self.n_output_nodes = n_output_nodes\n",
        "\n",
        "  def build(self, input_shape):\n",
        "    d = int(input_shape[-1])\n",
        "    # Define and initialize parameters: a weight matrix W and bias b\n",
        "    # Note that parameter initialization is random!\n",
        "    self.W = self.add_weight(\"weight\", shape=[d, self.n_output_nodes]) # note the dimensionality\n",
        "    self.b = self.add_weight(\"bias\", shape=[1, self.n_output_nodes]) # note the dimensionality\n",
        "\n",
        "  def call(self, x):\n",
        "    '''TODO: define the operation for z (hint: use tf.matmul)'''\n",
        "    z = tf.matmul(x,self.W)\n",
        "\n",
        "    '''TODO: define the operation for out (hint: use tf.sigmoid)'''\n",
        "    y = tf.sigmoid(z)\n",
        "    return y\n",
        "\n",
        "# Since layer parameters are initialized randomly, we will set a random seed for reproducibility\n",
        "tf.keras.utils.set_random_seed(1)\n",
        "layer = OurDenseLayer(3)\n",
        "layer.build((1,2))\n",
        "x_input = tf.constant([[1,2.]], shape=(1,2))\n",
        "y = layer.call(x_input)\n",
        "\n",
        "# test the output!\n",
        "print(y.numpy())\n",
        "# mdl.lab1.test_custom_dense_layer_output(y)"
      ]
    },
    {
      "cell_type": "markdown",
      "metadata": {
        "id": "Jt1FgM7qYZ3D"
      },
      "source": [
        "Conveniently, TensorFlow has defined a number of ```Layers``` that are commonly used in neural networks, for example a [```Dense```](https://www.tensorflow.org/api_docs/python/tf/keras/layers/Dense?version=stable). Now, instead of using a single ```Layer``` to define our simple neural network, we'll use the  [`Sequential`](https://www.tensorflow.org/versions/r2.0/api_docs/python/tf/keras/Sequential) model from Keras and a single [`Dense` ](https://www.tensorflow.org/versions/r2.0/api_docs/python/tf/keras/layers/Dense) layer to define our network. With the `Sequential` API, you can readily create neural networks by stacking together layers like building blocks."
      ]
    },
    {
      "cell_type": "code",
      "execution_count": 44,
      "metadata": {
        "id": "7WXTpmoL6TDz"
      },
      "outputs": [],
      "source": [
        "### Defining a neural network using the Sequential API ###\n",
        "\n",
        "# Import relevant packages\n",
        "from tensorflow.keras import Sequential\n",
        "from tensorflow.keras.layers import Dense\n",
        "\n",
        "# Define the number of outputs\n",
        "n_output_nodes = 3\n",
        "\n",
        "# First define the model\n",
        "model = Sequential()\n",
        "input_shape=2\n",
        "'''TODO: Define a dense (fully connected) layer to compute z'''\n",
        "# Remember: dense layers are defined by the parameters W and b!\n",
        "# You can read more about the initialization of W and b in the TF documentation :)\n",
        "# https://www.tensorflow.org/api_docs/python/tf/keras/layers/Dense?version=stable\n",
        "\n",
        "dense_layer = Dense(units=n_output_nodes, activation='sigmoid', input_shape=(input_shape,))\n",
        "\n",
        "# Add the dense layer to the model\n",
        "model.add(dense_layer)\n"
      ]
    },
    {
      "cell_type": "markdown",
      "metadata": {
        "id": "HDGcwYfUyR-U"
      },
      "source": [
        "That's it! We've defined our model using the Sequential API. Now, we can test it out using an example input:"
      ]
    },
    {
      "cell_type": "code",
      "execution_count": 47,
      "metadata": {
        "id": "sg23OczByRDb"
      },
      "outputs": [
        {
          "name": "stdout",
          "output_type": "stream",
          "text": [
            "tf.Tensor([[0.18752207 0.23909676 0.3213029 ]], shape=(1, 3), dtype=float32)\n"
          ]
        }
      ],
      "source": [
        "# Test model with example input\n",
        "x_input = tf.constant([[1,2.]], shape=(1,2))\n",
        "\n",
        "'''TODO: feed input into the model and predict the output!'''\n",
        "model_output = model(x_input)\n",
        "print(model_output)"
      ]
    },
    {
      "cell_type": "markdown",
      "metadata": {
        "id": "596NvsOOtr9F"
      },
      "source": [
        "In addition to defining models using the `Sequential` API, we can also define neural networks by directly subclassing the [`Model`](https://www.tensorflow.org/api_docs/python/tf/keras/Model?version=stable) class, which groups layers together to enable model training and inference. The `Model` class captures what we refer to as a \"model\" or as a \"ne\n",
        "twork\". Using Subclassing, we can create a class for our model, and then define the forward pass through the network using the `call` function. Subclassing affords the flexibility to define custom layers, custom training loops, custom activation functions, and custom models. Let's define the same neural network as above now using Subclassing rather than the `Sequential` model."
      ]
    },
    {
      "cell_type": "code",
      "execution_count": 55,
      "metadata": {
        "id": "K4aCflPVyViD"
      },
      "outputs": [],
      "source": [
        "### Defining a model using subclassing ###\n",
        "\n",
        "from tensorflow.keras import Model\n",
        "from tensorflow.keras.layers import Dense\n",
        "\n",
        "class SubclassModel(tf.keras.Model):\n",
        "\n",
        "  # In __init__, we define the Model's layers\n",
        "  def __init__(self, n_output_nodes):\n",
        "    super(SubclassModel, self).__init__()\n",
        "    '''TODO: Our model consists of a single Dense layer. Define this layer.'''\n",
        "    self.dense_layer = Dense(n_output_nodes,activation='sigmoid')\n",
        "  # In the call function, we define the Model's forward pass.\n",
        "  def call(self, inputs):\n",
        "    return self.dense_layer(inputs)"
      ]
    },
    {
      "cell_type": "markdown",
      "metadata": {
        "id": "U0-lwHDk4irB"
      },
      "source": [
        "Just like the model we built using the `Sequential` API, let's test out our `SubclassModel` using an example input.\n",
        "\n"
      ]
    },
    {
      "cell_type": "code",
      "execution_count": 56,
      "metadata": {
        "id": "LhB34RA-4gXb"
      },
      "outputs": [
        {
          "name": "stdout",
          "output_type": "stream",
          "text": [
            "tf.Tensor([[0.82794297 0.155684   0.567044  ]], shape=(1, 3), dtype=float32)\n"
          ]
        }
      ],
      "source": [
        "n_output_nodes = 3\n",
        "model = SubclassModel(n_output_nodes)\n",
        "\n",
        "x_input = tf.constant([[1,2.]], shape=(1,2))\n",
        "\n",
        "print(model.call(x_input))"
      ]
    },
    {
      "cell_type": "markdown",
      "metadata": {
        "id": "HTIFMJLAzsyE"
      },
      "source": [
        "Importantly, Subclassing affords us a lot of flexibility to define custom models. For example, we can use boolean arguments in the `call` function to specify different network behaviors, for example different behaviors during training and inference. Let's suppose under some instances we want our network to simply output the input, without any perturbation. We define a boolean argument `isidentity` to control this behavior:"
      ]
    },
    {
      "cell_type": "code",
      "execution_count": 57,
      "metadata": {
        "id": "P7jzGX5D1xT5"
      },
      "outputs": [],
      "source": [
        "### Defining a model using subclassing and specifying custom behavior ###\n",
        "\n",
        "from tensorflow.keras import Model\n",
        "from tensorflow.keras.layers import Dense\n",
        "\n",
        "class IdentityModel(tf.keras.Model):\n",
        "\n",
        "  # As before, in __init__ we define the Model's layers\n",
        "  # Since our desired behavior involves the forward pass, this part is unchanged\n",
        "  def __init__(self, n_output_nodes):\n",
        "    super(IdentityModel, self).__init__()\n",
        "    self.dense_layer = tf.keras.layers.Dense(n_output_nodes, activation='sigmoid')\n",
        "  def call(self,inputs,isidentity=False):\n",
        "    x = self.dense_layer(inputs)\n",
        "    if isidentity:\n",
        "      return inputs\n",
        "    else:\n",
        "      return x"
      ]
    },
    {
      "cell_type": "markdown",
      "metadata": {
        "id": "Ku4rcCGx5T3y"
      },
      "source": [
        "Let's test this behavior:"
      ]
    },
    {
      "cell_type": "code",
      "execution_count": 62,
      "metadata": {
        "id": "NzC0mgbk5dp2"
      },
      "outputs": [
        {
          "name": "stdout",
          "output_type": "stream",
          "text": [
            "Network output with activation: [[1. 2.]]; network identity output: [[0.57467866 0.61822414 0.88219965]]\n"
          ]
        }
      ],
      "source": [
        "n_output_nodes = 3\n",
        "model = IdentityModel(n_output_nodes)\n",
        "\n",
        "x_input = tf.constant([[1,2.]], shape=(1,2))\n",
        "\n",
        "# Call the model instance with the input and specify isidentity option\n",
        "out_activate = model(x_input, isidentity=True)\n",
        "out_identity = model(x_input, isidentity=False)\n",
        "\n",
        "print(\"Network output with activation: {}; network identity output: {}\".format(out_activate.numpy(), out_identity.numpy()))\n"
      ]
    },
    {
      "cell_type": "markdown",
      "metadata": {
        "id": "7V1dEqdk6VI5"
      },
      "source": [
        "Now that we have learned how to define `Layers` as well as neural networks in TensorFlow using both the `Sequential` and Subclassing APIs, we're ready to turn our attention to how to actually implement network training with backpropagation."
      ]
    },
    {
      "cell_type": "markdown",
      "metadata": {
        "id": "dQwDhKn8kbO2"
      },
      "source": [
        "## 1.4 Automatic differentiation in TensorFlow\n",
        "\n",
        "[Automatic differentiation](https://en.wikipedia.org/wiki/Automatic_differentiation)\n",
        "is one of the most important parts of TensorFlow and is the backbone of training with\n",
        "[backpropagation](https://en.wikipedia.org/wiki/Backpropagation). We will use the TensorFlow GradientTape [`tf.GradientTape`](https://www.tensorflow.org/api_docs/python/tf/GradientTape?version=stable) to trace operations for computing gradients later.\n",
        "\n",
        "When a forward pass is made through the network, all forward-pass operations get recorded to a \"tape\"; then, to compute the gradient, the tape is played backwards. By default, the tape is discarded after it is played backwards; this means that a particular `tf.GradientTape` can only\n",
        "compute one gradient, and subsequent calls throw a runtime error. However, we can compute multiple gradients over the same computation by creating a ```persistent``` gradient tape.\n",
        "\n",
        "First, we will look at how we can compute gradients using GradientTape and access them for computation. We define the simple function $ y = x^2$ and compute the gradient:"
      ]
    },
    {
      "cell_type": "code",
      "execution_count": 63,
      "metadata": {
        "id": "tdkqk8pw5yJM"
      },
      "outputs": [],
      "source": [
        "### Gradient computation with GradientTape ###\n",
        "\n",
        "# y = x^2\n",
        "# Example: x = 3.0\n",
        "x = tf.Variable(3.0)\n",
        "\n",
        "# Initiate the gradient tape\n",
        "with tf.GradientTape() as tape:\n",
        "  # Define the function\n",
        "  y = x * x\n",
        "# Access the gradient -- derivative of y with respect to x\n",
        "dy_dx = tape.gradient(y, x)\n",
        "\n",
        "assert dy_dx.numpy() == 6.0"
      ]
    },
    {
      "cell_type": "markdown",
      "metadata": {
        "id": "JhU5metS5xF3"
      },
      "source": [
        "In training neural networks, we use differentiation and stochastic gradient descent (SGD) to optimize a loss function. Now that we have a sense of how `GradientTape` can be used to compute and access derivatives, we will look at an example where we use automatic differentiation and SGD to find the minimum of $L=(x-x_f)^2$. Here $x_f$ is a variable for a desired value we are trying to optimize for; $L$ represents a loss that we are trying to  minimize. While we can clearly solve this problem analytically ($x_{min}=x_f$), considering how we can compute this using `GradientTape` sets us up nicely for future labs where we use gradient descent to optimize entire neural network losses."
      ]
    },
    {
      "cell_type": "code",
      "execution_count": 77,
      "metadata": {
        "attributes": {
          "classes": [
            "py"
          ],
          "id": ""
        },
        "id": "7g1yWiSXqEf-"
      },
      "outputs": [
        {
          "name": "stdout",
          "output_type": "stream",
          "text": [
            "Initializing x=[[0.6118191]]\n"
          ]
        },
        {
          "data": {
            "text/plain": [
              "Text(0, 0.5, 'x value')"
            ]
          },
          "execution_count": 77,
          "metadata": {},
          "output_type": "execute_result"
        },
        {
          "data": {
            "image/png": "[encoded data removed]",
            "text/plain": [
              "<Figure size 640x480 with 1 Axes>"
            ]
          },
          "metadata": {},
          "output_type": "display_data"
        }
      ],
      "source": [
        "### Function minimization with automatic differentiation and SGD ###\n",
        "\n",
        "# Initialize a random value for our initial x\n",
        "x = tf.Variable([tf.random.normal([1])])\n",
        "print(\"Initializing x={}\".format(x.numpy()))\n",
        "\n",
        "learning_rate = 1e-2 # learning rate for SGD\n",
        "history = []\n",
        "# Define the target value\n",
        "x_f = 4\n",
        "\n",
        "# We will run SGD for a number of iterations. At each iteration, we compute the loss,\n",
        "#   compute the derivative of the loss with respect to x, and perform the SGD update.\n",
        "for i in range(500):\n",
        "  with tf.GradientTape() as tape:\n",
        "    '''TODO: define the loss as described above'''\n",
        "    loss = (x-x_f)**2\n",
        "\n",
        "  # loss minimization using gradient tape\n",
        "  grad = tape.gradient(loss, x) # compute the derivative of the loss with respect to x\n",
        "  new_x = x - learning_rate*grad # sgd update\n",
        "  x.assign(new_x) # update the value of x\n",
        "  history.append(x.numpy()[0])\n",
        "\n",
        "# Plot the evolution of x as we optimize towards x_f!\n",
        "plt.plot(history)\n",
        "plt.plot([0, 500],[x_f,x_f])\n",
        "plt.legend(('Predicted', 'True'))\n",
        "plt.xlabel('Iteration')\n",
        "plt.ylabel('x value')"
      ]
    },
    {
      "cell_type": "markdown",
      "metadata": {
        "id": "pC7czCwk3ceH"
      },
      "source": [
        "`GradientTape` provides an extremely flexible framework for automatic differentiation. In order to back propagate errors through a neural network, we track forward passes on the Tape, use this information to determine the gradients, and then use these gradients for optimization using SGD."
      ]
    }
  ],
  "metadata": {
    "accelerator": "GPU",
    "colab": {
      "collapsed_sections": [
        "WBk0ZDWY-ff8"
      ],
      "name": "Part1_TensorFlow.ipynb",
      "provenance": []
    },
    "kernelspec": {
      "display_name": "Python 3",
      "language": "python",
      "name": "python3"
    },
    "language_info": {
      "codemirror_mode": {
        "name": "ipython",
        "version": 3
      },
      "file_extension": ".py",
      "mimetype": "text/x-python",
      "name": "python",
      "nbconvert_exporter": "python",
      "pygments_lexer": "ipython3",
      "version": "3.11.5"
    },
    "vscode": {
      "interpreter": {
        "hash": "31f2aee4e71d21fbe5cf8b01ff0e069b9275f58929596ceb00d14d90e3e16cd6"
      }
    }
  },
  "nbformat": 4,
  "nbformat_minor": 0
}
